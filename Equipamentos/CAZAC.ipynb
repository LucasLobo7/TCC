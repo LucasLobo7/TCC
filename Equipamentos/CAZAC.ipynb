{
 "cells": [
  {
   "cell_type": "code",
   "execution_count": 1,
   "metadata": {},
   "outputs": [],
   "source": [
    "import pyvisa as pv\n",
    "import time\n",
    "import numpy as np\n",
    "import matplotlib.pyplot as plt\n",
    "import scipy.io as sio   \n",
    "import pickle\n",
    "import scipy.signal\n",
    "from tqdm.notebook import tqdm, trange\n",
    "from scipy.special import erfc\n",
    "import scipy as sp\n",
    "from optic.comm.modulation import modulateGray, demodulateGray, GrayMapping\n",
    "from optic.dsp.core import firFilter, pulseShape, lowPassFIR, pnorm, upsample\n",
    "from optic.comm.metrics import signal_power,fastBERcalc\n",
    "\n",
    "from optic.plot import eyediagram\n",
    "plt.rcParams[\"figure.figsize\"] = (12,6)\n",
    "\n",
    "from funcoesLab import *"
   ]
  },
  {
   "cell_type": "code",
   "execution_count": null,
   "metadata": {},
   "outputs": [],
   "source": []
  }
 ],
 "metadata": {
  "kernelspec": {
   "display_name": "base",
   "language": "python",
   "name": "python3"
  },
  "language_info": {
   "codemirror_mode": {
    "name": "ipython",
    "version": 3
   },
   "file_extension": ".py",
   "mimetype": "text/x-python",
   "name": "python",
   "nbconvert_exporter": "python",
   "pygments_lexer": "ipython3",
   "version": "3.9.17"
  }
 },
 "nbformat": 4,
 "nbformat_minor": 2
}
