{
 "cells": [
  {
   "cell_type": "code",
   "execution_count": 82,
   "metadata": {},
   "outputs": [],
   "source": [
    "import pyvisa as pv\n",
    "import time\n",
    "import numpy as np\n",
    "import matplotlib.pyplot as plt\n",
    "import scipy.io as sio   \n",
    "import pickle\n",
    "import scipy.signal\n",
    "from tqdm.notebook import tqdm, trange\n",
    "from scipy.special import erfc\n",
    "\n",
    "from optic.comm.modulation import modulateGray, demodulateGray, GrayMapping\n",
    "from optic.dsp.core import firFilter, pulseShape, lowPassFIR, pnorm, upsample\n",
    "from optic.comm.metrics import signal_power\n",
    "from optic.plot import eyediagram\n",
    "plt.rcParams[\"figure.figsize\"] = (12,6)\n"
   ]
  },
  {
   "cell_type": "markdown",
   "metadata": {},
   "source": [
    "# funcoes\n",
    "```text\n",
    "[:SOURce[<n>]]:FUNCtion:SEQuence:LIST:CLEar (Limpa a memoria de waveforms) pg 110\n",
    "[:SOURce[<n>]][:TRACe]:DATA:DAC16 (Manda uma sequencia de pontos arbitraria para o DAC) pg 155\n",
    "```"
   ]
  },
  {
   "cell_type": "code",
   "execution_count": 107,
   "metadata": {},
   "outputs": [
    {
     "name": "stdout",
     "output_type": "stream",
     "text": [
      "16384\n",
      "\n",
      "16384\n",
      "\n"
     ]
    },
    {
     "data": {
      "text/plain": [
       "39"
      ]
     },
     "execution_count": 107,
     "metadata": {},
     "output_type": "execute_result"
    }
   ],
   "source": []
  },
  {
   "cell_type": "code",
   "execution_count": 118,
   "metadata": {},
   "outputs": [],
   "source": [
    "def Onda_Dac(DAC,Porta,fs,V_High,V_Low,pontos,filtro):\n",
    "    pontos = np.array2string(pontos, separator=', ').translate({ord(i): None for i in '[]'}).replace('\\n','')\n",
    "\n",
    "    DAC.write(f':SOURce{Porta}:FUNCtion:SEQuence:LIST:CLEar')\n",
    "    DAC.write(f':SOURce{Porta}:TRACe:DATA:DAC16 CODE,END, {pontos}')    \n",
    "    DAC.write(f':SOURce{Porta}:FUNCtion:SEQuence:LIST:SRATe {fs}')\n",
    "    DAC.write(f':SOURce{Porta}:FUNCtion:SEQuence:LIST:FILTer {filtro}')\n",
    "    DAC.write(f':SOURce{Porta}:FUNCtion:SEQuence:LIST:APPLy')\n",
    "    DAC.write(f':SOURce{Porta}:FUNCtion:SEQuence:STATe ON')\n",
    "    DAC.write(f':SOURce{Porta}:VOLTage:HIGH {V_High}')\n",
    "    DAC.write(f':SOURce{Porta}:VOLTage:LOW {V_Low}')\n",
    "\n",
    "DAC = wfgen\n",
    "Porta = 2\n",
    "fs = 10000\n",
    "V_High = 4\n",
    "V_Low = 0 \n",
    "pontos = np.linspace(-32000,32000,64,dtype = int)\n",
    "filtro = 'NORMal'\n",
    "\n",
    "Onda_Dac(DAC,Porta,fs,V_High,V_Low,pontos,filtro)"
   ]
  },
  {
   "cell_type": "code",
   "execution_count": 115,
   "metadata": {},
   "outputs": [
    {
     "name": "stdout",
     "output_type": "stream",
     "text": [
      "16384\n",
      "\n",
      "231\n",
      "\n"
     ]
    },
    {
     "data": {
      "text/plain": [
       "37"
      ]
     },
     "execution_count": 115,
     "metadata": {},
     "output_type": "execute_result"
    }
   ],
   "source": [
    "wfgen.write(':SOURce2:FUNCtion:SEQuence:LIST:CLEar')\n",
    "wfgen.write(':SOURce2:TRACe:DATA:DAC16 CODE,END,10,10,32000,30,40,32000,60,70,80,32000,100,200,300,400,500,32000,32000,32000,32000,32000,32000,32000,32000,32000,32000,32000,32000,32000,32000,32000,32000,32000,32000')\n",
    "wfgen.write(':SOURce2:FUNCtion:SEQuence:LIST:SRATe 100000')\n",
    "wfgen.write(':SOURce2:FUNCtion:SEQuence:LIST:APPLy')\n",
    "wfgen.write(':SOURce2:FUNCtion:SEQuence:STATe ON')"
   ]
  },
  {
   "cell_type": "code",
   "execution_count": 63,
   "metadata": {},
   "outputs": [
    {
     "name": "stdout",
     "output_type": "stream",
     "text": [
      "663\n"
     ]
    }
   ],
   "source": [
    "string = 'Nao tinha medo o tal Joao de Santo Cristo Era o que todos diziam quando ele se perdeu Deixou pra tras todo o marasmo da fazenda So pra sentir no seu sangue o odio que Jesus lhe deu Quando crianca so pensava em ser bandido Ainda mais quando com um tiro de soldado o pai morreu Era o terror da sertania onde morava E na escola ate o professor com ele aprendeu Ia pra igreja so pra roubar o dinheiro Que as velhinhas colocavam na caixinha do altar Sentia mesmo que era mesmo diferente Sentia que aquilo ali nao era o seu lugar Ele queria sair para ver o mar E as coisas que ele via na televisao Juntou dinheiro para poder viajar De escolha propria escolheu a solidao'\n",
    "\n",
    "for i in range(17):\n",
    "    if (i+1)*40 < 665:\n",
    "        wfgen.write(f':DISPlay:TEXT \"{(string)[i*40:(i+1)*40]}\"')\n",
    "        time.sleep(2)\n",
    "    else:\n",
    "        wfgen.write(f':DISPlay:TEXT \"{(string)[i*40:]}\"')\n",
    "        time.sleep(2)  \n",
    "wfgen.write(f':DISPlay:TEXT:CLEAR')"
   ]
  },
  {
   "cell_type": "code",
   "execution_count": 6,
   "metadata": {},
   "outputs": [],
   "source": [
    "def Gerar_Simbolos(M,nsimbolos,SPS,formatoPulso,nTaps,alpha):\n",
    "    # Geração de simbolos\n",
    "    bits = np.random.randint(0,2,int(nsimbolos*np.log2(M)))\n",
    "\n",
    "    simbolos = modulateGray(bits, M, 'pam')\n",
    "    simbolos = pnorm(simbolos)\n",
    "\n",
    "    # Fomartação de pulso\n",
    "    simbolosup = upsample(simbolos, SPS)\n",
    "    pulso = pulseShape(formatoPulso, SPS, nTaps, alpha)\n",
    "    pulso = pulso/max(abs(pulso))\n",
    "    sinal = firFilter(pulso, simbolosup)\n",
    "    sinal = sinal.real\n",
    "    # if formatoPulso == 'rrc':\n",
    "    #     np.savez('Dados Gerador De sinal/Python/{}PAM_SPS={}_{}_alpha={}.npz'.format(int(M),int(SPS),formatoPulso,alpha), simbolos=simbolos,sinal=sinal)\n",
    "    # else:\n",
    "    #     np.savez('Dados Gerador De sinal/Python/{}PAM_SPS={}_{}.npz'.format(int(M),int(SPS),formatoPulso), simbolos=simbolos,sinal=sinal)\n",
    "\n",
    "    #npz = np.load('{}PAM_SPS={}_{}_aplha={}.npz'.format(int(M),int(SPS),formatoPulso,alpha))\n",
    "    #print(npz['simbolos'])\n",
    "\n",
    "    # Geração do arquivo do DAC\n",
    "    sinal = sinal - np.min(sinal)\n",
    "    sinal = sinal/np.max(sinal)*65534\n",
    "    sinal = sinal - 32767\n",
    "    sinal = (np.rint(sinal)).astype(int)\n",
    "    return sinal\n",
    "\n",
    "def Onda_Dac(DAC,Porta,fs,V_High,V_Low,pontos,Nome_Onda):\n",
    "    DAC.write('DATA:VOLatile:CLEar')\n",
    "    pontos = np.array2string(pontos, separator=', ').translate({ord(i): None for i in '[]'}).replace('\\n','')\n",
    "    DAC.write('SOURCE{}:DATA:ARB:DAC {}, {}'.format(Porta,Nome_Onda,pontos))    \n",
    "    DAC.write('SOURCE{}:FUNC:ARB {}'.format(Porta,Nome_Onda))\n",
    "    DAC.write('SOURCE{}:FUNC ARB'.format(Porta))\n",
    "    DAC.write('SOURCE{}:FUNC:ARB:SRAT {}'.format(Porta,fs))\n",
    "    DAC.write('SOURCE{}:VOLT:HIGH {}'.format(Porta,V_High))\n",
    "    DAC.write('SOURCE{}:VOLT:LOW {}'.format(Porta,V_Low))\n",
    "    DAC.write('OUTP{} ON'.format(Porta))\n",
    "    DAC.write('DISPLAY:FOCUS CH{}'.format(Porta))"
   ]
  },
  {
   "cell_type": "code",
   "execution_count": 87,
   "metadata": {},
   "outputs": [
    {
     "name": "stdout",
     "output_type": "stream",
     "text": [
      "('USB0::0x0957::0x5707::MY53802202::0::INSTR', 'USB0::0x1AB1::0x0646::DG9R261500165::0::INSTR', 'USB0::0x2A8D::0x1768::MY55440748::0::INSTR')\n",
      "Instrument info: RIGOL TECHNOLOGIES,DG922 Pro,DG9R261500165,00.01.00.00.21 \n",
      "\n"
     ]
    },
    {
     "data": {
      "text/plain": [
       "7"
      ]
     },
     "execution_count": 87,
     "metadata": {},
     "output_type": "execute_result"
    }
   ],
   "source": [
    "import pyvisa\n",
    "rm = pyvisa.ResourceManager()\n",
    "print(rm.list_resources())\n",
    "\n",
    "wfgen = rm.open_resource('USB0::0x1AB1::0x0646::DG9R261500165::0::INSTR')\n",
    "print('Instrument info:', wfgen.query('*IDN?'))\n",
    "\n",
    "wfgen.write('*rst') # resets the instrument to default configuration\n",
    "wfgen.write('*opc?') # waits until previous commands are finished"
   ]
  },
  {
   "cell_type": "code",
   "execution_count": null,
   "metadata": {},
   "outputs": [],
   "source": []
  },
  {
   "cell_type": "code",
   "execution_count": 414,
   "metadata": {},
   "outputs": [
    {
     "name": "stdout",
     "output_type": "stream",
     "text": [
      "-10922, -10922,  32767,  10922,  32767, -32767,  32767, -10922,  32767,\n",
      "  10922,  32767, -10922, -10922, -32767, -32767, -10922, -10922,  32767,\n",
      "  10922, -10922, -10922, -32767,  10922, -10922, -10922,  32767,  10922,\n",
      " -10922, -10922,  32767,  32767,  32767\n"
     ]
    },
    {
     "data": {
      "image/png": "[encoded data removed]",
      "text/plain": [
       "<Figure size 1200x600 with 1 Axes>"
      ]
     },
     "metadata": {},
     "output_type": "display_data"
    }
   ],
   "source": [
    "wfgen.write('*rst') \n",
    "\n",
    "#Valores Geração do sinal\n",
    "M = 4 # order of the modulation format\n",
    "nsimbolos = 32\n",
    "SPS = 1\n",
    "formatoPulso = 'rect' #'rect','nrz','rrc'\n",
    "nTaps = 1024\n",
    "alpha = 0.1\n",
    "\n",
    "simbolos = Gerar_Simbolos(M,nsimbolos,SPS,formatoPulso,nTaps,alpha)\n",
    "\n",
    "\n",
    "plt.plot(simbolos)\n",
    "print(np.array2string(simbolos, separator=', ').translate({ord(i): None for i in '[]'}))\n",
    "DAC = wfgen\n",
    "Porta = 2\n",
    "fs = 1e5\n",
    "V_High = 5.0\n",
    "V_Low = -5\n",
    "pontos = simbolos\n",
    "Nome_Onda = 'oi'\n",
    "Onda_Dac(DAC,Porta,fs,V_High,V_Low,pontos,Nome_Onda)"
   ]
  },
  {
   "cell_type": "code",
   "execution_count": 352,
   "metadata": {},
   "outputs": [
    {
     "data": {
      "text/plain": [
       "19"
      ]
     },
     "execution_count": 352,
     "metadata": {},
     "output_type": "execute_result"
    }
   ],
   "source": [
    "wfgen.write('*rst') # resets the instrument to default configuration\n",
    "\n",
    "# Parameters of a square wave\n",
    "\n",
    "wfgen.write('DATA:VOLatile:CLEar')\n",
    "\n",
    "#wfgen.write('SOURCE2:DATA:ARB:DAC teste,-10922,  10922,  32767,  32767, -10922, -32767,  10922,  32767,  32767,10922, -32767, -32767, -32767,  32767,  10922, -10922,  10922,  32767,10922, -10922, -32767,  32767,  10922,  32767, -32767,  32767, -32767,-32767, -32767, -10922,  10922, -10922, -32767, -10922,  32767,  32767,10922,  10922, -10922,  10922, -10922, -10922,  32767, -32767,  32767,-10922, -32767,  10922, -32767,  10922, -10922, -10922, -10922, -10922,32767, -10922, -32767, -10922, -32767, -10922, -32767,  32767,  32767,-10922')\n",
    "wfgen.write('SOURCE2:DATA:ARB:DAC teste, 10922,  10922,  10922, -10922, -10922, -10922, -32767,  32767, -10922,  32767, -10922, -32767,  10922, -10922,  10922, -10922, -10922,  32767,  32767,  32767,  10922, -10922, -32767, -32767, -10922, -32767,  32767,  10922,  10922, -10922,  10922,  32767,  10922,  10922,  10922,  10922,  32767,  32767, -32767, -32767,  32767, -10922,  10922,  10922, -10922, -10922, -32767, -10922, -10922, -32767, -32767,  32767, -10922,  10922, -32767,  32767, -32767,  32767, -32767, -10922,  32767,  32767, -32767,  32767')\n",
    "#wfgen.write('SOURCE2:DATA:ARB:DAC teste,-32767, 32767,  32767,32767,-32767,32767,-32767,32767,32767,32767,32767,32767,32767,32767,32767,32767,32767,32767,32767,32767,32767,32767,32767,32767,32767,32767,32767,32767,32767,32767,32767,32767')\n",
    "wfgen.write('SOURCE2:FUNC:ARB teste')\n",
    "#print(wfgen.query('DATA:ATTR:AVER? teste'))\n",
    "\n",
    "\n",
    "wfgen.write('SOURCE2:FUNC ARB')\n",
    "wfgen.write('SOURCE2:FREQ +1E+05')\n",
    "wfgen.write('SOURCE2:FUNC:SQU:DCYC +20')\n",
    "wfgen.write('SOURCE2:VOLT:HIGH +2.0')\n",
    "wfgen.write('SOURCE2:VOLT:LOW 0')\n",
    "wfgen.write('OUTP2 ON')\n",
    "\n",
    "wfgen.write('DISPLAY:FOCUS CH2')"
   ]
  },
  {
   "cell_type": "code",
   "execution_count": 323,
   "metadata": {},
   "outputs": [
    {
     "data": {
      "text/plain": [
       "19"
      ]
     },
     "execution_count": 323,
     "metadata": {},
     "output_type": "execute_result"
    }
   ],
   "source": [
    "wfgen.write('DISPLAY:FOCUS CH2')"
   ]
  },
  {
   "cell_type": "code",
   "execution_count": 273,
   "metadata": {},
   "outputs": [
    {
     "name": "stdout",
     "output_type": "stream",
     "text": [
      "+0,\"No error\"\n",
      "\n",
      "+0,\"No error\"\n",
      "\n",
      "\"TESTE\"\n",
      "\n"
     ]
    }
   ],
   "source": [
    "wfgen.write('DATA:VOLatile:CLEar')\n",
    "\n",
    "wfgen.write('SOURCE2:DATA:ARB teste,1.0,1.0,1.0,1.0,-1.0,-1.0,-1.0,1.0,1.0,1.0,1.0,1.0,1.0,1.0,1.0,-1.0,-1.0,-1.0,1.0,1.0,1.0,1.0,1.0,1.0,1.0,-1.0,-1.0,-1.0,-1.0,-1.0,-1.0,-1.0')\n",
    "print(wfgen.query('SYSTem:ERRor?'))\n",
    "wfgen.write('SOURCE2:FUNC:ARB teste')\n",
    "\n",
    "print(wfgen.query('SYSTem:ERRor?'))\n",
    "print(wfgen.query('SOURCE2:FUNC:ARB?'))"
   ]
  },
  {
   "cell_type": "code",
   "execution_count": 249,
   "metadata": {},
   "outputs": [
    {
     "data": {
      "text/plain": [
       "18"
      ]
     },
     "execution_count": 249,
     "metadata": {},
     "output_type": "execute_result"
    }
   ],
   "source": [
    "wfgen.write('SOURCE2:FUNC SIN')\n",
    "wfgen.write('FUNC:ARB teste')\n",
    "wfgen.write('SOURCE2:FUNC ARB')"
   ]
  },
  {
   "cell_type": "code",
   "execution_count": 204,
   "metadata": {},
   "outputs": [
    {
     "name": "stdout",
     "output_type": "stream",
     "text": [
      "-257,\"File name error; invalid character in name\"\n",
      "\n"
     ]
    }
   ],
   "source": [
    "wfgen.write('MMEM:LOAD:DATA \"EXP_RISE.arb\"')\n",
    "print(wfgen.query('SYSTem:ERRor?'))"
   ]
  },
  {
   "cell_type": "code",
   "execution_count": 200,
   "metadata": {},
   "outputs": [
    {
     "name": "stdout",
     "output_type": "stream",
     "text": [
      "-257,\"File name error; invalid character in name\"\n",
      "\n"
     ]
    }
   ],
   "source": [
    "#wfgen.write('DATA:VOLatile:CLEar')\n",
    "#wfgen.write('DISPLAY:FOCUS CH2')\n",
    "#wfgen.write('DATA:ARB:DAC teste,-1.0,-1.0,-1.0,-1.0,-1.0,-1.0,-1.0,1.0,1.0,1.0,1.0,1.0,1.0,1.0,1.0,-1.0,-1.0,-1.0,1.0,1.0,1.0,1.0,1.0,1.0,1.0,-1.0,-1.0,-1.0,-1.0,-1.0,-1.0,-1.0')\n",
    "#wfgen.write('FUNC:ARB teste')\n",
    "#wfgen.write('MMEM:STORE:DATA \"INT:\\teste.arb\"')\n",
    "wfgen.write('DATA:VOLatile:CLEar')\n",
    "wfgen.write('MMEM:LOAD:DATA \"INT:\\teste.arb\"')\n",
    "print(wfgen.query('SYSTem:ERRor?'))\n",
    "#wfgen.write('FUNC ARB')\n",
    "#wfgen.write('FUNC:ARB \"INT:\\teste.arb\"')\n",
    "#print(wfgen.query('SYSTem:ERRor?'))\n",
    "#wfgen.write('SOURCE2:FUNC ARB ')"
   ]
  },
  {
   "cell_type": "code",
   "execution_count": 182,
   "metadata": {},
   "outputs": [
    {
     "data": {
      "text/plain": [
       "11"
      ]
     },
     "execution_count": 182,
     "metadata": {},
     "output_type": "execute_result"
    }
   ],
   "source": [
    "wfgen.write('MMEM:CAT?')    "
   ]
  },
  {
   "cell_type": "code",
   "execution_count": 206,
   "metadata": {},
   "outputs": [
    {
     "data": {
      "text/plain": [
       "20"
      ]
     },
     "execution_count": 206,
     "metadata": {},
     "output_type": "execute_result"
    }
   ],
   "source": [
    "wfgen.write('DISPLAY:TEXT:CLEAR')\n",
    "#wfgen.write('DISPLAY:TEXT \"DAC HACKEADO\"')"
   ]
  },
  {
   "cell_type": "code",
   "execution_count": 119,
   "metadata": {},
   "outputs": [],
   "source": [
    "wfgen.close()\n",
    "rm.close()\n"
   ]
  }
 ],
 "metadata": {
  "kernelspec": {
   "display_name": "base",
   "language": "python",
   "name": "python3"
  },
  "language_info": {
   "codemirror_mode": {
    "name": "ipython",
    "version": 3
   },
   "file_extension": ".py",
   "mimetype": "text/x-python",
   "name": "python",
   "nbconvert_exporter": "python",
   "pygments_lexer": "ipython3",
   "version": "3.9.17"
  }
 },
 "nbformat": 4,
 "nbformat_minor": 2
}
