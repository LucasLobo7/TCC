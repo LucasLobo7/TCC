{
 "cells": [
  {
   "cell_type": "code",
   "execution_count": 3,
   "metadata": {},
   "outputs": [],
   "source": [
    "import pyvisa as pv\n",
    "import time\n",
    "import numpy as np\n",
    "import matplotlib.pyplot as plt\n",
    "import scipy.io as sio   \n",
    "import pickle\n",
    "import scipy.signal\n",
    "from tqdm.notebook import tqdm, trange\n",
    "from scipy.special import erfc\n",
    "\n",
    "from optic.comm.modulation import modulateGray, demodulateGray, GrayMapping\n",
    "from optic.dsp.core import firFilter, pulseShape, lowPassFIR, pnorm, upsample\n",
    "from optic.comm.metrics import signal_power\n",
    "from optic.plot import eyediagram\n",
    "plt.rcParams[\"figure.figsize\"] = (12,6)\n",
    "\n"
   ]
  },
  {
   "cell_type": "markdown",
   "metadata": {},
   "source": [
    "# funcoes\n",
    "```text\n",
    "[:SOURce[<n>]]:FUNCtion:SEQuence:LIST:CLEar (Limpa a memoria de waveforms) pg 110\n",
    "[:SOURce[<n>]][:TRACe]:DATA:DAC16 (Manda uma sequencia de pontos arbitraria para o DAC) pg 155\n",
    "```"
   ]
  },
  {
   "cell_type": "code",
   "execution_count": 20,
   "metadata": {},
   "outputs": [],
   "source": [
    "# def Onda_Dac(DAC,Porta,fs,V_High,V_Low,pontos,filtro):\n",
    "#     pontos = np.array2string(pontos, separator=', ').translate({ord(i): None for i in '[]'}).replace('\\n','')\n",
    "\n",
    "#     #DAC.write(f':SOURce{Porta}:FUNCtion:SEQuence:LIST:CLEar')\n",
    "#     DAC.write(f':SOURce{Porta}:TRACe:DATA:DAC16 CODE,END, {pontos}')    \n",
    "#     # DAC.write(f':SOURce{Porta}:FUNCtion:SEQuence:LIST:SRATe {fs}')\n",
    "#     # DAC.write(f':SOURce{Porta}:FUNCtion:SEQuence:LIST:FILTer {filtro}')\n",
    "#     # DAC.write(f':SOURce{Porta}:FUNCtion:SEQuence:LIST:APPLy')\n",
    "#     # DAC.write(f':SOURce{Porta}:FUNCtion:SEQuence:STATe ON')\n",
    "#     # DAC.write(f':SOURce{Porta}:VOLTage:HIGH {V_High}')\n",
    "#     # DAC.write(f':SOURce{Porta}:VOLTage:LOW {V_Low}')\n",
    "\n",
    "DAC = wfgen\n",
    "Porta = 2\n",
    "fs = 10000\n",
    "V_High = 4\n",
    "V_Low = 0 \n",
    "pontos = np.linspace(-32000,32000,32,dtype = int)\n",
    "filtro = 'NORMal'\n",
    "\n",
    "Onda_Dac(DAC,Porta,fs,V_High,V_Low,pontos,filtro)"
   ]
  },
  {
   "cell_type": "code",
   "execution_count": 7,
   "metadata": {},
   "outputs": [],
   "source": [
    "def Gerar_Simbolos(M,nsimbolos,SPS,formatoPulso,nTaps,alpha):\n",
    "    # Geração de simbolos\n",
    "    bits = np.random.randint(0,2,int(nsimbolos*np.log2(M)))\n",
    "\n",
    "    simbolos = modulateGray(bits, M, 'pam')\n",
    "    simbolos = pnorm(simbolos)\n",
    "\n",
    "    # Fomartação de pulso\n",
    "    simbolosup = upsample(simbolos, SPS)\n",
    "    pulso = pulseShape(formatoPulso, SPS, nTaps, alpha)\n",
    "    pulso = pulso/max(abs(pulso))\n",
    "    sinal = firFilter(pulso, simbolosup)\n",
    "    sinal = sinal.real\n",
    "    # if formatoPulso == 'rrc':\n",
    "    #     np.savez('Dados Gerador De sinal/Python/{}PAM_SPS={}_{}_alpha={}.npz'.format(int(M),int(SPS),formatoPulso,alpha), simbolos=simbolos,sinal=sinal)\n",
    "    # else:\n",
    "    #     np.savez('Dados Gerador De sinal/Python/{}PAM_SPS={}_{}.npz'.format(int(M),int(SPS),formatoPulso), simbolos=simbolos,sinal=sinal)\n",
    "\n",
    "    #npz = np.load('{}PAM_SPS={}_{}_aplha={}.npz'.format(int(M),int(SPS),formatoPulso,alpha))\n",
    "    #print(npz['simbolos'])\n",
    "\n",
    "    # Geração do arquivo do DAC\n",
    "    sinal = sinal - np.min(sinal)\n",
    "    sinal = sinal/np.max(sinal)*65534\n",
    "    sinal = sinal - 32767\n",
    "    sinal = (np.rint(sinal)).astype(int)\n",
    "    return sinal\n",
    "\n",
    "def Onda_Dac(DAC,Porta,fs,V_High,V_Low,pontos,Nome_Onda):\n",
    "    DAC.write('SOURCE{}:DATA:VOLatile:CLEar')\n",
    "    pontos = np.array2string(pontos, separator=', ').translate({ord(i): None for i in '[]'}).replace('\\n','')\n",
    "    DAC.write('SOURCE{}:DATA:ARB:DAC {}, {}'.format(Porta,Nome_Onda,pontos))    \n",
    "    DAC.write('SOURCE{}:FUNC:ARB {}'.format(Porta,Nome_Onda))\n",
    "    DAC.write('SOURCE{}:FUNC ARB'.format(Porta))\n",
    "    DAC.write('SOURCE{}:FUNC:ARB:SRAT {}'.format(Porta,fs))\n",
    "    DAC.write('SOURCE{}:VOLT:HIGH {}'.format(Porta,V_High))\n",
    "    DAC.write('SOURCE{}:VOLT:LOW {}'.format(Porta,V_Low))\n",
    "    DAC.write('OUTP{} ON'.format(Porta))\n",
    "    DAC.write('DISPLAY:FOCUS CH{}'.format(Porta))"
   ]
  },
  {
   "cell_type": "code",
   "execution_count": 5,
   "metadata": {},
   "outputs": [
    {
     "name": "stdout",
     "output_type": "stream",
     "text": [
      "('USB0::0x0957::0x5707::MY53802202::0::INSTR', 'USB0::0x2A8D::0x1768::MY55440748::0::INSTR')\n",
      "Instrument info: Agilent Technologies,33622A,MY53802202,A.01.11-2.25-03-64-02\n",
      "\n"
     ]
    },
    {
     "data": {
      "text/plain": [
       "7"
      ]
     },
     "execution_count": 5,
     "metadata": {},
     "output_type": "execute_result"
    }
   ],
   "source": [
    "rm = pyvisa.ResourceManager()\n",
    "print(rm.list_resources())\n",
    "\n",
    "DAC = rm.open_resource('USB0::0x0957::0x5707::MY53802202::0::INSTR')\n",
    "print('Instrument info:', DAC.query('*IDN?'))\n",
    "\n",
    "DAC.write('*rst') # resets the instrument to default configuration\n",
    "DAC.write('*opc?') # waits until previous commands are finished"
   ]
  },
  {
   "cell_type": "code",
   "execution_count": 182,
   "metadata": {},
   "outputs": [
    {
     "data": {
      "text/plain": [
       "19"
      ]
     },
     "execution_count": 182,
     "metadata": {},
     "output_type": "execute_result"
    }
   ],
   "source": [
    "pontos = np.append(simbolos,simbolos)\n",
    "DAC.write('SOURce2:DATA:VOL:CLE')\n",
    "DAC.query('*OPC?')\n",
    "DAC.query('SOURce2:DATA:VOL:FREE?')\n",
    "\n",
    "pontos = np.array2string(pontos, separator=',').translate({ord(i): None for i in '[]'}).replace('\\n','')\n",
    "\n",
    "DAC.write('SOURCE2:DATA:ARB:DAC OI, {}'.format(pontos))   \n",
    "\n",
    "DAC.write('SOURCE2:FUNC ARB {}'.format('OI'))\n",
    "DAC.write('SOURCE{}:FUNC ARB'.format(Porta))\n",
    "DAC.write('SOURCE2:FUNC:ARB:SRAT {}'.format(fs))\n",
    "DAC.write('SOURCE2:VOLT:HIGH {}'.format(V_High))\n",
    "DAC.write('SOURCE2:VOLT:LOW {}'.format(V_Low))\n",
    "DAC.write('OUTP2 ON'.format())\n",
    "DAC.write('DISPLAY:FOCUS CH2'.format())\n",
    "#len(pontos)"
   ]
  },
  {
   "cell_type": "code",
   "execution_count": null,
   "metadata": {},
   "outputs": [],
   "source": []
  },
  {
   "cell_type": "code",
   "execution_count": 244,
   "metadata": {},
   "outputs": [
    {
     "data": {
      "text/plain": [
       "'+63940000\\n'"
      ]
     },
     "execution_count": 244,
     "metadata": {},
     "output_type": "execute_result"
    }
   ],
   "source": [
    "DAC.query('SOURce2:DATA:VOL:FREE?')"
   ]
  },
  {
   "cell_type": "code",
   "execution_count": 31,
   "metadata": {},
   "outputs": [],
   "source": [
    "def Onda_Dac(DAC,Porta,fs,V_High,V_Low,pontos,Nome_Onda):\n",
    "    pontos = ((np.array2string(pontos, separator=',').translate({ord(i): None for i in '[]'}).replace('\\n',''))).replace(\" \", \"\")\n",
    "    DAC.write('SOURCE{}:DATA:ARB:DAC {},{}'.format(Porta,Nome_Onda,pontos))\n",
    "    print(DAC.query('SYSTEM:ERROR?'))  \n",
    "    DAC.query('*OPC?')  \n",
    "    print(DAC.query('SYSTEM:ERROR?')) \n",
    "    DAC.write('SOURCE{}:FUNC ARB'.format(Porta))\n",
    "    DAC.write('SOURCE{}:FUNC:ARB {}'.format(Porta,Nome_Onda))\n",
    "    DAC.write('SOURCE{}:FUNC:ARB:SRAT {}'.format(Porta,fs))\n",
    "    DAC.write('SOURCE{}:VOLT:HIGH {}'.format(Porta,V_High))\n",
    "    DAC.write('SOURCE{}:VOLT:LOW {}'.format(Porta,V_Low))\n",
    "    DAC.write('OUTP{} ON'.format(Porta))\n",
    "    DAC.write('DISPLAY:FOCUS CH{}'.format(Porta))"
   ]
  },
  {
   "cell_type": "code",
   "execution_count": 67,
   "metadata": {},
   "outputs": [
    {
     "name": "stdout",
     "output_type": "stream",
     "text": [
      "+0,\"No error\"\n",
      "\n",
      "+0,\"No error\"\n",
      "\n",
      "0\n"
     ]
    }
   ],
   "source": [
    "np.set_printoptions(threshold=np.inf)\n",
    "del DAC.timeout\n",
    "\n",
    "DAC.write('*CLS')\n",
    "def Onda_Dac(DAC,Porta,fs,V_High,V_Low,pontos,Nome_Onda):\n",
    "    DAC.write('FORMat:BORDer SWAPped')\n",
    "    DAC.write_binary_values('SOURCE{}:DATA:ARB:DAC {},'.format(Porta,Nome_Onda),pontos,datatype='h')\n",
    "    print(DAC.query('SYSTEM:ERROR?'))  \n",
    "    DAC.query('*OPC?')  \n",
    "    DAC.write('SOURCE{}:FUNC ARB'.format(Porta))\n",
    "    DAC.write('SOURCE{}:FUNC:ARB {}'.format(Porta,Nome_Onda)) \n",
    "    DAC.write('SOURCE{}:FUNC:ARB:SRAT {}'.format(Porta,fs))\n",
    "    DAC.write('SOURCE{}:VOLT:HIGH {}'.format(Porta,V_High))\n",
    "    print(DAC.query('SYSTEM:ERROR?'))\n",
    "    DAC.write('SOURCE{}:VOLT:LOW {}'.format(Porta,V_Low))\n",
    "    DAC.write('OUTP{} ON'.format(Porta))\n",
    "    DAC.write('DISPLAY:FOCUS CH{}'.format(Porta))\n",
    "\n",
    "#wfgen.write('*rst') \n",
    "\n",
    "#Valores Geração do sinal\n",
    "M = 4 # order of the modulation format\n",
    "nsimbolos = 64e6//4\n",
    "SPS = 4\n",
    "formatoPulso = 'nrz' #'rect','nrz','rrc'\n",
    "nTaps = 1024\n",
    "alpha = 0.1\n",
    "\n",
    "simbolos = Gerar_Simbolos(M,nsimbolos,SPS,formatoPulso,nTaps,alpha)\n",
    "DAC.write('SOURce2:DATA:VOL:CLE')\n",
    "#DAC.query('*OPC?')\n",
    "#print(DAC.query('SOURce2:DATA:VOL:FREE?'))\n",
    "#plt.plot(simbolos)\n",
    "#print(np.array2string(simbolos, separator=', ').translate({ord(i): None for i in '[]'}))\n",
    "Porta = 2\n",
    "fs = 4e8\n",
    "V_High = 5.0\n",
    "V_Low = -5\n",
    "pontos = simbolos\n",
    "Nome_Onda = 'a2'\n",
    "for i in range(1):\n",
    "    Onda_Dac(DAC,Porta,fs,V_High,V_Low,pontos,f'oi')\n",
    "print(int(DAC.query('SOURce2:DATA:VOL:FREE?')))\n",
    "#print(DAC.query('SOURce2:DATA:VOLatile:CATalog?'))\n"
   ]
  },
  {
   "cell_type": "code",
   "execution_count": 47,
   "metadata": {},
   "outputs": [
    {
     "data": {
      "text/plain": [
       "36"
      ]
     },
     "execution_count": 47,
     "metadata": {},
     "output_type": "execute_result"
    }
   ],
   "source": [
    "DAC.write('MMEM:STOR:DATA2 \"INT:\\oisalvo.arb\"')"
   ]
  },
  {
   "cell_type": "code",
   "execution_count": null,
   "metadata": {},
   "outputs": [],
   "source": [
    "pl"
   ]
  },
  {
   "cell_type": "code",
   "execution_count": 169,
   "metadata": {},
   "outputs": [
    {
     "data": {
      "text/plain": [
       "62992000"
      ]
     },
     "execution_count": 169,
     "metadata": {},
     "output_type": "execute_result"
    }
   ],
   "source": [
    "int(DAC.query('SOURce2:DATA:VOL:FREE?'))"
   ]
  },
  {
   "cell_type": "code",
   "execution_count": 153,
   "metadata": {},
   "outputs": [
    {
     "name": "stdout",
     "output_type": "stream",
     "text": [
      "+64000000\n",
      "\n"
     ]
    }
   ],
   "source": [
    "simbolos = (np.linspace(-32000,32000,100)).astype(int)\n",
    "DAC.write('SOURce2:DATA:VOL:CLE')\n",
    "DAC.query('*OPC?')\n",
    "print(DAC.query('SOURce2:DATA:VOL:FREE?'))"
   ]
  },
  {
   "cell_type": "code",
   "execution_count": 46,
   "metadata": {},
   "outputs": [
    {
     "data": {
      "text/plain": [
       "21"
      ]
     },
     "execution_count": 46,
     "metadata": {},
     "output_type": "execute_result"
    }
   ],
   "source": [
    "DAC.write('DATA:VOLatile:CLEar')"
   ]
  },
  {
   "cell_type": "code",
   "execution_count": 352,
   "metadata": {},
   "outputs": [
    {
     "data": {
      "text/plain": [
       "19"
      ]
     },
     "execution_count": 352,
     "metadata": {},
     "output_type": "execute_result"
    }
   ],
   "source": [
    "wfgen.write('*rst') # resets the instrument to default configuration\n",
    "\n",
    "# Parameters of a square wave\n",
    "\n",
    "wfgen.write('DATA:VOLatile:CLEar')\n",
    "\n",
    "#wfgen.write('SOURCE2:DATA:ARB:DAC teste,-10922,  10922,  32767,  32767, -10922, -32767,  10922,  32767,  32767,10922, -32767, -32767, -32767,  32767,  10922, -10922,  10922,  32767,10922, -10922, -32767,  32767,  10922,  32767, -32767,  32767, -32767,-32767, -32767, -10922,  10922, -10922, -32767, -10922,  32767,  32767,10922,  10922, -10922,  10922, -10922, -10922,  32767, -32767,  32767,-10922, -32767,  10922, -32767,  10922, -10922, -10922, -10922, -10922,32767, -10922, -32767, -10922, -32767, -10922, -32767,  32767,  32767,-10922')\n",
    "wfgen.write('SOURCE2:DATA:ARB:DAC teste, 10922,  10922,  10922, -10922, -10922, -10922, -32767,  32767, -10922,  32767, -10922, -32767,  10922, -10922,  10922, -10922, -10922,  32767,  32767,  32767,  10922, -10922, -32767, -32767, -10922, -32767,  32767,  10922,  10922, -10922,  10922,  32767,  10922,  10922,  10922,  10922,  32767,  32767, -32767, -32767,  32767, -10922,  10922,  10922, -10922, -10922, -32767, -10922, -10922, -32767, -32767,  32767, -10922,  10922, -32767,  32767, -32767,  32767, -32767, -10922,  32767,  32767, -32767,  32767')\n",
    "#wfgen.write('SOURCE2:DATA:ARB:DAC teste,-32767, 32767,  32767,32767,-32767,32767,-32767,32767,32767,32767,32767,32767,32767,32767,32767,32767,32767,32767,32767,32767,32767,32767,32767,32767,32767,32767,32767,32767,32767,32767,32767,32767')\n",
    "wfgen.write('SOURCE2:FUNC:ARB teste')\n",
    "#print(wfgen.query('DATA:ATTR:AVER? teste'))\n",
    "\n",
    "\n",
    "wfgen.write('SOURCE2:FUNC ARB')\n",
    "wfgen.write('SOURCE2:FREQ +1E+05')\n",
    "wfgen.write('SOURCE2:FUNC:SQU:DCYC +20')\n",
    "wfgen.write('SOURCE2:VOLT:HIGH +2.0')\n",
    "wfgen.write('SOURCE2:VOLT:LOW 0')\n",
    "wfgen.write('OUTP2 ON')\n",
    "\n",
    "wfgen.write('DISPLAY:FOCUS CH2')"
   ]
  },
  {
   "cell_type": "code",
   "execution_count": 323,
   "metadata": {},
   "outputs": [
    {
     "data": {
      "text/plain": [
       "19"
      ]
     },
     "execution_count": 323,
     "metadata": {},
     "output_type": "execute_result"
    }
   ],
   "source": [
    "wfgen.write('DISPLAY:FOCUS CH2')"
   ]
  },
  {
   "cell_type": "code",
   "execution_count": 273,
   "metadata": {},
   "outputs": [
    {
     "name": "stdout",
     "output_type": "stream",
     "text": [
      "+0,\"No error\"\n",
      "\n",
      "+0,\"No error\"\n",
      "\n",
      "\"TESTE\"\n",
      "\n"
     ]
    }
   ],
   "source": [
    "wfgen.write('DATA:VOLatile:CLEar')\n",
    "\n",
    "wfgen.write('SOURCE2:DATA:ARB teste,1.0,1.0,1.0,1.0,-1.0,-1.0,-1.0,1.0,1.0,1.0,1.0,1.0,1.0,1.0,1.0,-1.0,-1.0,-1.0,1.0,1.0,1.0,1.0,1.0,1.0,1.0,-1.0,-1.0,-1.0,-1.0,-1.0,-1.0,-1.0')\n",
    "print(wfgen.query('SYSTem:ERRor?'))\n",
    "wfgen.write('SOURCE2:FUNC:ARB teste')\n",
    "\n",
    "print(wfgen.query('SYSTem:ERRor?'))\n",
    "print(wfgen.query('SOURCE2:FUNC:ARB?'))"
   ]
  },
  {
   "cell_type": "code",
   "execution_count": 249,
   "metadata": {},
   "outputs": [
    {
     "data": {
      "text/plain": [
       "18"
      ]
     },
     "execution_count": 249,
     "metadata": {},
     "output_type": "execute_result"
    }
   ],
   "source": [
    "wfgen.write('SOURCE2:FUNC SIN')\n",
    "wfgen.write('FUNC:ARB teste')\n",
    "wfgen.write('SOURCE2:FUNC ARB')"
   ]
  },
  {
   "cell_type": "code",
   "execution_count": 204,
   "metadata": {},
   "outputs": [
    {
     "name": "stdout",
     "output_type": "stream",
     "text": [
      "-257,\"File name error; invalid character in name\"\n",
      "\n"
     ]
    }
   ],
   "source": [
    "wfgen.write('MMEM:LOAD:DATA \"EXP_RISE.arb\"')\n",
    "print(wfgen.query('SYSTem:ERRor?'))"
   ]
  },
  {
   "cell_type": "code",
   "execution_count": 200,
   "metadata": {},
   "outputs": [
    {
     "name": "stdout",
     "output_type": "stream",
     "text": [
      "-257,\"File name error; invalid character in name\"\n",
      "\n"
     ]
    }
   ],
   "source": [
    "#wfgen.write('DATA:VOLatile:CLEar')\n",
    "#wfgen.write('DISPLAY:FOCUS CH2')\n",
    "#wfgen.write('DATA:ARB:DAC teste,-1.0,-1.0,-1.0,-1.0,-1.0,-1.0,-1.0,1.0,1.0,1.0,1.0,1.0,1.0,1.0,1.0,-1.0,-1.0,-1.0,1.0,1.0,1.0,1.0,1.0,1.0,1.0,-1.0,-1.0,-1.0,-1.0,-1.0,-1.0,-1.0')\n",
    "#wfgen.write('FUNC:ARB teste')\n",
    "#wfgen.write('MMEM:STORE:DATA \"INT:\\teste.arb\"')\n",
    "wfgen.write('DATA:VOLatile:CLEar')\n",
    "wfgen.write('MMEM:LOAD:DATA \"INT:\\teste.arb\"')\n",
    "print(wfgen.query('SYSTem:ERRor?'))\n",
    "#wfgen.write('FUNC ARB')\n",
    "#wfgen.write('FUNC:ARB \"INT:\\teste.arb\"')\n",
    "#print(wfgen.query('SYSTem:ERRor?'))\n",
    "#wfgen.write('SOURCE2:FUNC ARB ')"
   ]
  },
  {
   "cell_type": "code",
   "execution_count": 182,
   "metadata": {},
   "outputs": [
    {
     "data": {
      "text/plain": [
       "11"
      ]
     },
     "execution_count": 182,
     "metadata": {},
     "output_type": "execute_result"
    }
   ],
   "source": [
    "wfgen.write('MMEM:CAT?')    "
   ]
  },
  {
   "cell_type": "code",
   "execution_count": 118,
   "metadata": {},
   "outputs": [
    {
     "data": {
      "text/plain": [
       "array([-32000, -31935, -31871, -31807, -31743, -31679, -31615, -31551,\n",
       "       -31487, -31423, -31359, -31295, -31231, -31167, -31103, -31039,\n",
       "       -30974, -30910, -30846, -30782, -30718, -30654, -30590, -30526,\n",
       "       -30462, -30398, -30334, -30270, -30206, -30142, -30078, -30014,\n",
       "       -29949, -29885, -29821, -29757, -29693, -29629, -29565, -29501,\n",
       "       -29437, -29373, -29309, -29245, -29181, -29117, -29053, -28988,\n",
       "       -28924, -28860, -28796, -28732, -28668, -28604, -28540, -28476,\n",
       "       -28412, -28348, -28284, -28220, -28156, -28092, -28028, -27963,\n",
       "       -27899, -27835, -27771, -27707, -27643, -27579, -27515, -27451,\n",
       "       -27387, -27323, -27259, -27195, -27131, -27067, -27003, -26938,\n",
       "       -26874, -26810, -26746, -26682, -26618, -26554, -26490, -26426,\n",
       "       -26362, -26298, -26234, -26170, -26106, -26042, -25977, -25913,\n",
       "       -25849, -25785, -25721, -25657, -25593, -25529, -25465, -25401,\n",
       "       -25337, -25273, -25209, -25145, -25081, -25017, -24952, -24888,\n",
       "       -24824, -24760, -24696, -24632, -24568, -24504, -24440, -24376,\n",
       "       -24312, -24248, -24184, -24120, -24056, -23991, -23927, -23863,\n",
       "       -23799, -23735, -23671, -23607, -23543, -23479, -23415, -23351,\n",
       "       -23287, -23223, -23159, -23095, -23031, -22966, -22902, -22838,\n",
       "       -22774, -22710, -22646, -22582, -22518, -22454, -22390, -22326,\n",
       "       -22262, -22198, -22134, -22070, -22006, -21941, -21877, -21813,\n",
       "       -21749, -21685, -21621, -21557, -21493, -21429, -21365, -21301,\n",
       "       -21237, -21173, -21109, -21045, -20980, -20916, -20852, -20788,\n",
       "       -20724, -20660, -20596, -20532, -20468, -20404, -20340, -20276,\n",
       "       -20212, -20148, -20084, -20020, -19955, -19891, -19827, -19763,\n",
       "       -19699, -19635, -19571, -19507, -19443, -19379, -19315, -19251,\n",
       "       -19187, -19123, -19059, -18994, -18930, -18866, -18802, -18738,\n",
       "       -18674, -18610, -18546, -18482, -18418, -18354, -18290, -18226,\n",
       "       -18162, -18098, -18034, -17969, -17905, -17841, -17777, -17713,\n",
       "       -17649, -17585, -17521, -17457, -17393, -17329, -17265, -17201,\n",
       "       -17137, -17073, -17009, -16944, -16880, -16816, -16752, -16688,\n",
       "       -16624, -16560, -16496, -16432, -16368, -16304, -16240, -16176,\n",
       "       -16112, -16048, -15983, -15919, -15855, -15791, -15727, -15663,\n",
       "       -15599, -15535, -15471, -15407, -15343, -15279, -15215, -15151,\n",
       "       -15087, -15023, -14958, -14894, -14830, -14766, -14702, -14638,\n",
       "       -14574, -14510, -14446, -14382, -14318, -14254, -14190, -14126,\n",
       "       -14062, -13997, -13933, -13869, -13805, -13741, -13677, -13613,\n",
       "       -13549, -13485, -13421, -13357, -13293, -13229, -13165, -13101,\n",
       "       -13037, -12972, -12908, -12844, -12780, -12716, -12652, -12588,\n",
       "       -12524, -12460, -12396, -12332, -12268, -12204, -12140, -12076,\n",
       "       -12012, -11947, -11883, -11819, -11755, -11691, -11627, -11563,\n",
       "       -11499, -11435, -11371, -11307, -11243, -11179, -11115, -11051,\n",
       "       -10986, -10922, -10858, -10794, -10730, -10666, -10602, -10538,\n",
       "       -10474, -10410, -10346, -10282, -10218, -10154, -10090, -10026,\n",
       "        -9961,  -9897,  -9833,  -9769,  -9705,  -9641,  -9577,  -9513,\n",
       "        -9449,  -9385,  -9321,  -9257,  -9193,  -9129,  -9065,  -9001,\n",
       "        -8936,  -8872,  -8808,  -8744,  -8680,  -8616,  -8552,  -8488,\n",
       "        -8424,  -8360,  -8296,  -8232,  -8168,  -8104,  -8040,  -7975,\n",
       "        -7911,  -7847,  -7783,  -7719,  -7655,  -7591,  -7527,  -7463,\n",
       "        -7399,  -7335,  -7271,  -7207,  -7143,  -7079,  -7015,  -6950,\n",
       "        -6886,  -6822,  -6758,  -6694,  -6630,  -6566,  -6502,  -6438,\n",
       "        -6374,  -6310,  -6246,  -6182,  -6118,  -6054,  -5989,  -5925,\n",
       "        -5861,  -5797,  -5733,  -5669,  -5605,  -5541,  -5477,  -5413,\n",
       "        -5349,  -5285,  -5221,  -5157,  -5093,  -5029,  -4964,  -4900,\n",
       "        -4836,  -4772,  -4708,  -4644,  -4580,  -4516,  -4452,  -4388,\n",
       "        -4324,  -4260,  -4196,  -4132,  -4068,  -4004,  -3939,  -3875,\n",
       "        -3811,  -3747,  -3683,  -3619,  -3555,  -3491,  -3427,  -3363,\n",
       "        -3299,  -3235,  -3171,  -3107,  -3043,  -2978,  -2914,  -2850,\n",
       "        -2786,  -2722,  -2658,  -2594,  -2530,  -2466,  -2402,  -2338,\n",
       "        -2274,  -2210,  -2146,  -2082,  -2018,  -1953,  -1889,  -1825,\n",
       "        -1761,  -1697,  -1633,  -1569,  -1505,  -1441,  -1377,  -1313,\n",
       "        -1249,  -1185,  -1121,  -1057,   -992,   -928,   -864,   -800,\n",
       "         -736,   -672,   -608,   -544,   -480,   -416,   -352,   -288,\n",
       "         -224,   -160,    -96,    -32,     32,     96,    160,    224,\n",
       "          288,    352,    416,    480,    544,    608,    672,    736,\n",
       "          800,    864,    928,    992,   1057,   1121,   1185,   1249,\n",
       "         1313,   1377,   1441,   1505,   1569,   1633,   1697,   1761,\n",
       "         1825,   1889,   1953,   2018,   2082,   2146,   2210,   2274,\n",
       "         2338,   2402,   2466,   2530,   2594,   2658,   2722,   2786,\n",
       "         2850,   2914,   2978,   3043,   3107,   3171,   3235,   3299,\n",
       "         3363,   3427,   3491,   3555,   3619,   3683,   3747,   3811,\n",
       "         3875,   3939,   4004,   4068,   4132,   4196,   4260,   4324,\n",
       "         4388,   4452,   4516,   4580,   4644,   4708,   4772,   4836,\n",
       "         4900,   4964,   5029,   5093,   5157,   5221,   5285,   5349,\n",
       "         5413,   5477,   5541,   5605,   5669,   5733,   5797,   5861,\n",
       "         5925,   5989,   6054,   6118,   6182,   6246,   6310,   6374,\n",
       "         6438,   6502,   6566,   6630,   6694,   6758,   6822,   6886,\n",
       "         6950,   7015,   7079,   7143,   7207,   7271,   7335,   7399,\n",
       "         7463,   7527,   7591,   7655,   7719,   7783,   7847,   7911,\n",
       "         7975,   8040,   8104,   8168,   8232,   8296,   8360,   8424,\n",
       "         8488,   8552,   8616,   8680,   8744,   8808,   8872,   8936,\n",
       "         9001,   9065,   9129,   9193,   9257,   9321,   9385,   9449,\n",
       "         9513,   9577,   9641,   9705,   9769,   9833,   9897,   9961,\n",
       "        10026,  10090,  10154,  10218,  10282,  10346,  10410,  10474,\n",
       "        10538,  10602,  10666,  10730,  10794,  10858,  10922,  10986,\n",
       "        11051,  11115,  11179,  11243,  11307,  11371,  11435,  11499,\n",
       "        11563,  11627,  11691,  11755,  11819,  11883,  11947,  12012,\n",
       "        12076,  12140,  12204,  12268,  12332,  12396,  12460,  12524,\n",
       "        12588,  12652,  12716,  12780,  12844,  12908,  12972,  13037,\n",
       "        13101,  13165,  13229,  13293,  13357,  13421,  13485,  13549,\n",
       "        13613,  13677,  13741,  13805,  13869,  13933,  13997,  14062,\n",
       "        14126,  14190,  14254,  14318,  14382,  14446,  14510,  14574,\n",
       "        14638,  14702,  14766,  14830,  14894,  14958,  15023,  15087,\n",
       "        15151,  15215,  15279,  15343,  15407,  15471,  15535,  15599,\n",
       "        15663,  15727,  15791,  15855,  15919,  15983,  16048,  16112,\n",
       "        16176,  16240,  16304,  16368,  16432,  16496,  16560,  16624,\n",
       "        16688,  16752,  16816,  16880,  16944,  17009,  17073,  17137,\n",
       "        17201,  17265,  17329,  17393,  17457,  17521,  17585,  17649,\n",
       "        17713,  17777,  17841,  17905,  17969,  18034,  18098,  18162,\n",
       "        18226,  18290,  18354,  18418,  18482,  18546,  18610,  18674,\n",
       "        18738,  18802,  18866,  18930,  18994,  19059,  19123,  19187,\n",
       "        19251,  19315,  19379,  19443,  19507,  19571,  19635,  19699,\n",
       "        19763,  19827,  19891,  19955,  20020,  20084,  20148,  20212,\n",
       "        20276,  20340,  20404,  20468,  20532,  20596,  20660,  20724,\n",
       "        20788,  20852,  20916,  20980,  21045,  21109,  21173,  21237,\n",
       "        21301,  21365,  21429,  21493,  21557,  21621,  21685,  21749,\n",
       "        21813,  21877,  21941,  22006,  22070,  22134,  22198,  22262,\n",
       "        22326,  22390,  22454,  22518,  22582,  22646,  22710,  22774,\n",
       "        22838,  22902,  22966,  23031,  23095,  23159,  23223,  23287,\n",
       "        23351,  23415,  23479,  23543,  23607,  23671,  23735,  23799,\n",
       "        23863,  23927,  23991,  24056,  24120,  24184,  24248,  24312,\n",
       "        24376,  24440,  24504,  24568,  24632,  24696,  24760,  24824,\n",
       "        24888,  24952,  25017,  25081,  25145,  25209,  25273,  25337,\n",
       "        25401,  25465,  25529,  25593,  25657,  25721,  25785,  25849,\n",
       "        25913,  25977,  26042,  26106,  26170,  26234,  26298,  26362,\n",
       "        26426,  26490,  26554,  26618,  26682,  26746,  26810,  26874,\n",
       "        26938,  27003,  27067,  27131,  27195,  27259,  27323,  27387,\n",
       "        27451,  27515,  27579,  27643,  27707,  27771,  27835,  27899,\n",
       "        27963,  28028,  28092,  28156,  28220,  28284,  28348,  28412,\n",
       "        28476,  28540,  28604,  28668,  28732,  28796,  28860,  28924,\n",
       "        28988,  29053,  29117,  29181,  29245,  29309,  29373,  29437,\n",
       "        29501,  29565,  29629,  29693,  29757,  29821,  29885,  29949,\n",
       "        30014,  30078,  30142,  30206,  30270,  30334,  30398,  30462,\n",
       "        30526,  30590,  30654,  30718,  30782,  30846,  30910,  30974,\n",
       "        31039,  31103,  31167,  31231,  31295,  31359,  31423,  31487,\n",
       "        31551,  31615,  31679,  31743,  31807,  31871,  31935,  32000])"
      ]
     },
     "execution_count": 118,
     "metadata": {},
     "output_type": "execute_result"
    }
   ],
   "source": [
    "np.linspace(-32000,32000,1000).astype(int)"
   ]
  },
  {
   "cell_type": "code",
   "execution_count": 206,
   "metadata": {},
   "outputs": [
    {
     "data": {
      "text/plain": [
       "20"
      ]
     },
     "execution_count": 206,
     "metadata": {},
     "output_type": "execute_result"
    }
   ],
   "source": [
    "wfgen.write('DISPLAY:TEXT:CLEAR')\n",
    "#wfgen.write('DISPLAY:TEXT \"DAC HACKEADO\"')"
   ]
  },
  {
   "cell_type": "code",
   "execution_count": 106,
   "metadata": {},
   "outputs": [],
   "source": [
    "DAC.close()\n",
    "rm.close()\n"
   ]
  },
  {
   "cell_type": "code",
   "execution_count": 9,
   "metadata": {},
   "outputs": [
    {
     "name": "stdout",
     "output_type": "stream",
     "text": [
      "Info Osciloscopio: KEYSIGHT TECHNOLOGIES,DSO-X 3014T,MY55440748,04.06.2015051201\n",
      "\n"
     ]
    },
    {
     "data": {
      "text/plain": [
       "7"
      ]
     },
     "execution_count": 9,
     "metadata": {},
     "output_type": "execute_result"
    }
   ],
   "source": [
    "scope = rm.open_resource('USB0::0x2A8D::0x1768::MY55440748::0::INSTR')\n",
    "print('Info Osciloscopio:', scope.query('*IDN?'))\n",
    "#scope.write('*rst')\n",
    "scope.write('*opc?') "
   ]
  },
  {
   "cell_type": "code",
   "execution_count": 11,
   "metadata": {},
   "outputs": [
    {
     "ename": "VisaIOError",
     "evalue": "VI_ERROR_TMO (-1073807339): Timeout expired before operation completed.",
     "output_type": "error",
     "traceback": [
      "\u001b[1;31m---------------------------------------------------------------------------\u001b[0m",
      "\u001b[1;31mVisaIOError\u001b[0m                               Traceback (most recent call last)",
      "\u001b[1;32m~\\AppData\\Local\\Temp\\ipykernel_21580\\3692691175.py\u001b[0m in \u001b[0;36m<module>\u001b[1;34m\u001b[0m\n\u001b[0;32m      5\u001b[0m \u001b[0mscope\u001b[0m\u001b[1;33m.\u001b[0m\u001b[0mwrite\u001b[0m\u001b[1;33m(\u001b[0m\u001b[1;34m'SAVE:IMAG:FILEF PNG'\u001b[0m\u001b[1;33m)\u001b[0m\u001b[1;33m\u001b[0m\u001b[1;33m\u001b[0m\u001b[0m\n\u001b[0;32m      6\u001b[0m \u001b[0mscope\u001b[0m\u001b[1;33m.\u001b[0m\u001b[0mwrite\u001b[0m\u001b[1;33m(\u001b[0m\u001b[1;34m':HARDcopy: STARt'\u001b[0m\u001b[1;33m)\u001b[0m\u001b[1;33m\u001b[0m\u001b[1;33m\u001b[0m\u001b[0m\n\u001b[1;32m----> 7\u001b[1;33m \u001b[0mraw_data\u001b[0m \u001b[1;33m=\u001b[0m \u001b[0mscope\u001b[0m\u001b[1;33m.\u001b[0m\u001b[0mread_raw\u001b[0m \u001b[1;33m(\u001b[0m\u001b[1;33m)\u001b[0m\u001b[1;33m\u001b[0m\u001b[1;33m\u001b[0m\u001b[0m\n\u001b[0m\u001b[0;32m      8\u001b[0m \u001b[0mf\u001b[0m\u001b[1;33m=\u001b[0m \u001b[0mopen\u001b[0m \u001b[1;33m(\u001b[0m\u001b[1;34m'Shot.png'\u001b[0m \u001b[1;34m'wb'\u001b[0m\u001b[1;33m)\u001b[0m\u001b[1;33m\u001b[0m\u001b[1;33m\u001b[0m\u001b[0m\n\u001b[0;32m      9\u001b[0m \u001b[0mf\u001b[0m\u001b[1;33m.\u001b[0m\u001b[0mwrite\u001b[0m \u001b[1;33m(\u001b[0m\u001b[0mraw_data\u001b[0m\u001b[1;33m)\u001b[0m\u001b[1;33m\u001b[0m\u001b[1;33m\u001b[0m\u001b[0m\n",
      "\u001b[1;32mc:\\Users\\lucas\\anaconda3\\lib\\site-packages\\pyvisa\\resources\\messagebased.py\u001b[0m in \u001b[0;36mread_raw\u001b[1;34m(self, size)\u001b[0m\n\u001b[0;32m    402\u001b[0m \u001b[1;33m\u001b[0m\u001b[0m\n\u001b[0;32m    403\u001b[0m         \"\"\"\n\u001b[1;32m--> 404\u001b[1;33m         \u001b[1;32mreturn\u001b[0m \u001b[0mbytes\u001b[0m\u001b[1;33m(\u001b[0m\u001b[0mself\u001b[0m\u001b[1;33m.\u001b[0m\u001b[0m_read_raw\u001b[0m\u001b[1;33m(\u001b[0m\u001b[0msize\u001b[0m\u001b[1;33m)\u001b[0m\u001b[1;33m)\u001b[0m\u001b[1;33m\u001b[0m\u001b[1;33m\u001b[0m\u001b[0m\n\u001b[0m\u001b[0;32m    405\u001b[0m \u001b[1;33m\u001b[0m\u001b[0m\n\u001b[0;32m    406\u001b[0m     \u001b[1;32mdef\u001b[0m \u001b[0m_read_raw\u001b[0m\u001b[1;33m(\u001b[0m\u001b[0mself\u001b[0m\u001b[1;33m,\u001b[0m \u001b[0msize\u001b[0m\u001b[1;33m:\u001b[0m \u001b[0mOptional\u001b[0m\u001b[1;33m[\u001b[0m\u001b[0mint\u001b[0m\u001b[1;33m]\u001b[0m \u001b[1;33m=\u001b[0m \u001b[1;32mNone\u001b[0m\u001b[1;33m)\u001b[0m\u001b[1;33m:\u001b[0m\u001b[1;33m\u001b[0m\u001b[1;33m\u001b[0m\u001b[0m\n",
      "\u001b[1;32mc:\\Users\\lucas\\anaconda3\\lib\\site-packages\\pyvisa\\resources\\messagebased.py\u001b[0m in \u001b[0;36m_read_raw\u001b[1;34m(self, size)\u001b[0m\n\u001b[0;32m    439\u001b[0m                         \u001b[0mstatus\u001b[0m\u001b[1;33m,\u001b[0m\u001b[1;33m\u001b[0m\u001b[1;33m\u001b[0m\u001b[0m\n\u001b[0;32m    440\u001b[0m                     )\n\u001b[1;32m--> 441\u001b[1;33m                     \u001b[0mchunk\u001b[0m\u001b[1;33m,\u001b[0m \u001b[0mstatus\u001b[0m \u001b[1;33m=\u001b[0m \u001b[0mself\u001b[0m\u001b[1;33m.\u001b[0m\u001b[0mvisalib\u001b[0m\u001b[1;33m.\u001b[0m\u001b[0mread\u001b[0m\u001b[1;33m(\u001b[0m\u001b[0mself\u001b[0m\u001b[1;33m.\u001b[0m\u001b[0msession\u001b[0m\u001b[1;33m,\u001b[0m \u001b[0msize\u001b[0m\u001b[1;33m)\u001b[0m\u001b[1;33m\u001b[0m\u001b[1;33m\u001b[0m\u001b[0m\n\u001b[0m\u001b[0;32m    442\u001b[0m                     \u001b[0mret\u001b[0m\u001b[1;33m.\u001b[0m\u001b[0mextend\u001b[0m\u001b[1;33m(\u001b[0m\u001b[0mchunk\u001b[0m\u001b[1;33m)\u001b[0m\u001b[1;33m\u001b[0m\u001b[1;33m\u001b[0m\u001b[0m\n\u001b[0;32m    443\u001b[0m             \u001b[1;32mexcept\u001b[0m \u001b[0merrors\u001b[0m\u001b[1;33m.\u001b[0m\u001b[0mVisaIOError\u001b[0m \u001b[1;32mas\u001b[0m \u001b[0me\u001b[0m\u001b[1;33m:\u001b[0m\u001b[1;33m\u001b[0m\u001b[1;33m\u001b[0m\u001b[0m\n",
      "\u001b[1;32mc:\\Users\\lucas\\anaconda3\\lib\\site-packages\\pyvisa\\ctwrapper\\functions.py\u001b[0m in \u001b[0;36mread\u001b[1;34m(library, session, count)\u001b[0m\n\u001b[0;32m   2334\u001b[0m     \u001b[0mbuffer\u001b[0m \u001b[1;33m=\u001b[0m \u001b[0mcreate_string_buffer\u001b[0m\u001b[1;33m(\u001b[0m\u001b[0mcount\u001b[0m\u001b[1;33m)\u001b[0m\u001b[1;33m\u001b[0m\u001b[1;33m\u001b[0m\u001b[0m\n\u001b[0;32m   2335\u001b[0m     \u001b[0mreturn_count\u001b[0m \u001b[1;33m=\u001b[0m \u001b[0mViUInt32\u001b[0m\u001b[1;33m(\u001b[0m\u001b[1;33m)\u001b[0m\u001b[1;33m\u001b[0m\u001b[1;33m\u001b[0m\u001b[0m\n\u001b[1;32m-> 2336\u001b[1;33m     \u001b[0mret\u001b[0m \u001b[1;33m=\u001b[0m \u001b[0mlibrary\u001b[0m\u001b[1;33m.\u001b[0m\u001b[0mviRead\u001b[0m\u001b[1;33m(\u001b[0m\u001b[0msession\u001b[0m\u001b[1;33m,\u001b[0m \u001b[0mbuffer\u001b[0m\u001b[1;33m,\u001b[0m \u001b[0mcount\u001b[0m\u001b[1;33m,\u001b[0m \u001b[0mbyref\u001b[0m\u001b[1;33m(\u001b[0m\u001b[0mreturn_count\u001b[0m\u001b[1;33m)\u001b[0m\u001b[1;33m)\u001b[0m\u001b[1;33m\u001b[0m\u001b[1;33m\u001b[0m\u001b[0m\n\u001b[0m\u001b[0;32m   2337\u001b[0m     \u001b[1;32mreturn\u001b[0m \u001b[0mbuffer\u001b[0m\u001b[1;33m.\u001b[0m\u001b[0mraw\u001b[0m\u001b[1;33m[\u001b[0m\u001b[1;33m:\u001b[0m \u001b[0mreturn_count\u001b[0m\u001b[1;33m.\u001b[0m\u001b[0mvalue\u001b[0m\u001b[1;33m]\u001b[0m\u001b[1;33m,\u001b[0m \u001b[0mret\u001b[0m\u001b[1;33m\u001b[0m\u001b[1;33m\u001b[0m\u001b[0m\n\u001b[0;32m   2338\u001b[0m \u001b[1;33m\u001b[0m\u001b[0m\n",
      "\u001b[1;32mc:\\Users\\lucas\\anaconda3\\lib\\site-packages\\pyvisa\\ctwrapper\\highlevel.py\u001b[0m in \u001b[0;36m_return_handler\u001b[1;34m(self, ret_value, func, arguments)\u001b[0m\n\u001b[0;32m    224\u001b[0m                 \u001b[0msession\u001b[0m \u001b[1;33m=\u001b[0m \u001b[1;32mNone\u001b[0m\u001b[1;33m\u001b[0m\u001b[1;33m\u001b[0m\u001b[0m\n\u001b[0;32m    225\u001b[0m \u001b[1;33m\u001b[0m\u001b[0m\n\u001b[1;32m--> 226\u001b[1;33m         \u001b[1;32mreturn\u001b[0m \u001b[0mself\u001b[0m\u001b[1;33m.\u001b[0m\u001b[0mhandle_return_value\u001b[0m\u001b[1;33m(\u001b[0m\u001b[0msession\u001b[0m\u001b[1;33m,\u001b[0m \u001b[0mret_value\u001b[0m\u001b[1;33m)\u001b[0m  \u001b[1;31m# type: ignore\u001b[0m\u001b[1;33m\u001b[0m\u001b[1;33m\u001b[0m\u001b[0m\n\u001b[0m\u001b[0;32m    227\u001b[0m \u001b[1;33m\u001b[0m\u001b[0m\n\u001b[0;32m    228\u001b[0m     def list_resources(\n",
      "\u001b[1;32mc:\\Users\\lucas\\anaconda3\\lib\\site-packages\\pyvisa\\highlevel.py\u001b[0m in \u001b[0;36mhandle_return_value\u001b[1;34m(self, session, status_code)\u001b[0m\n\u001b[0;32m    249\u001b[0m \u001b[1;33m\u001b[0m\u001b[0m\n\u001b[0;32m    250\u001b[0m         \u001b[1;32mif\u001b[0m \u001b[0mrv\u001b[0m \u001b[1;33m<\u001b[0m \u001b[1;36m0\u001b[0m\u001b[1;33m:\u001b[0m\u001b[1;33m\u001b[0m\u001b[1;33m\u001b[0m\u001b[0m\n\u001b[1;32m--> 251\u001b[1;33m             \u001b[1;32mraise\u001b[0m \u001b[0merrors\u001b[0m\u001b[1;33m.\u001b[0m\u001b[0mVisaIOError\u001b[0m\u001b[1;33m(\u001b[0m\u001b[0mrv\u001b[0m\u001b[1;33m)\u001b[0m\u001b[1;33m\u001b[0m\u001b[1;33m\u001b[0m\u001b[0m\n\u001b[0m\u001b[0;32m    252\u001b[0m \u001b[1;33m\u001b[0m\u001b[0m\n\u001b[0;32m    253\u001b[0m         \u001b[1;32mif\u001b[0m \u001b[0mrv\u001b[0m \u001b[1;32min\u001b[0m \u001b[0mself\u001b[0m\u001b[1;33m.\u001b[0m\u001b[0missue_warning_on\u001b[0m\u001b[1;33m:\u001b[0m\u001b[1;33m\u001b[0m\u001b[1;33m\u001b[0m\u001b[0m\n",
      "\u001b[1;31mVisaIOError\u001b[0m: VI_ERROR_TMO (-1073807339): Timeout expired before operation completed."
     ]
    }
   ],
   "source": [
    "scope.read_termination = '\\n'\n",
    "scope.write_termination = '\\n' #or = '\\r'\n",
    "\n",
    "#print (scope.query('*IDN?\\n'))\n",
    "scope.write('SAVE:IMAG:FILEF PNG')\n",
    "scope.write(':HARDcopy: STARt')\n",
    "raw_data = scope.read_raw()\n",
    "f= open ('Shot.png' 'wb')\n",
    "f.write (raw_data)\n",
    "f.close "
   ]
  },
  {
   "cell_type": "code",
   "execution_count": 13,
   "metadata": {},
   "outputs": [
    {
     "data": {
      "text/plain": [
       "24"
      ]
     },
     "execution_count": 13,
     "metadata": {},
     "output_type": "execute_result"
    }
   ],
   "source": [
    "scope.write(':SAVE:IMAGe:FORMat PNG')\n",
    "scope.write(':SAVE:IMAGe:STARt teste')"
   ]
  },
  {
   "cell_type": "code",
   "execution_count": null,
   "metadata": {},
   "outputs": [],
   "source": [
    ">>> import keyoscacquire.oscacq as koa\n",
    ">>> osc = koa.Oscilloscope(address='USB0::1234::1234::MY1234567::INSTR')\n",
    ">>> time, y, channel_numbers = osc.set_options_get_trace()"
   ]
  }
 ],
 "metadata": {
  "kernelspec": {
   "display_name": "base",
   "language": "python",
   "name": "python3"
  },
  "language_info": {
   "codemirror_mode": {
    "name": "ipython",
    "version": 3
   },
   "file_extension": ".py",
   "mimetype": "text/x-python",
   "name": "python",
   "nbconvert_exporter": "python",
   "pygments_lexer": "ipython3",
   "version": "3.9.17"
  }
 },
 "nbformat": 4,
 "nbformat_minor": 2
}
